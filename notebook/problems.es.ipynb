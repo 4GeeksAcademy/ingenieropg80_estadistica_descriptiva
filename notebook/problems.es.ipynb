{
 "cells": [
  {
   "cell_type": "markdown",
   "id": "6805e3f1",
   "metadata": {},
   "source": [
    "# Problemas de Estadística Descriptiva\n",
    "\n",
    "## Ejercicio 1 – ¿Qué tan largos son los títulos de las películas?\n",
    "\n",
    "En este ejercicio vas a aplicar técnicas de estadística descriptiva sobre un conjunto de datos real: una base con 1000 películas populares del sitio IMDb.\n",
    "\n",
    "A partir del título de cada película, vas a:\n",
    "- Calcular la longitud del título (en caracteres).\n",
    "- Obtener métricas estadísticas clave: media, mediana, moda, rango, varianza, desviación estándar, asimetría y curtosis.\n",
    "- Identificar los títulos más largos y más cortos.\n",
    "- Visualizar la distribución de estas longitudes con un histograma y una curva de densidad.\n"
   ]
  },
  {
   "cell_type": "code",
   "execution_count": 2,
   "id": "ca3d2c0a",
   "metadata": {},
   "outputs": [
    {
     "data": {
      "text/html": [
       "<div>\n",
       "<style scoped>\n",
       "    .dataframe tbody tr th:only-of-type {\n",
       "        vertical-align: middle;\n",
       "    }\n",
       "\n",
       "    .dataframe tbody tr th {\n",
       "        vertical-align: top;\n",
       "    }\n",
       "\n",
       "    .dataframe thead th {\n",
       "        text-align: right;\n",
       "    }\n",
       "</style>\n",
       "<table border=\"1\" class=\"dataframe\">\n",
       "  <thead>\n",
       "    <tr style=\"text-align: right;\">\n",
       "      <th></th>\n",
       "      <th>star_rating</th>\n",
       "      <th>title</th>\n",
       "      <th>content_rating</th>\n",
       "      <th>genre</th>\n",
       "      <th>duration</th>\n",
       "      <th>actors_list</th>\n",
       "    </tr>\n",
       "  </thead>\n",
       "  <tbody>\n",
       "    <tr>\n",
       "      <th>0</th>\n",
       "      <td>9.3</td>\n",
       "      <td>The Shawshank Redemption</td>\n",
       "      <td>R</td>\n",
       "      <td>Crime</td>\n",
       "      <td>142</td>\n",
       "      <td>[u'Tim Robbins', u'Morgan Freeman', u'Bob Gunt...</td>\n",
       "    </tr>\n",
       "    <tr>\n",
       "      <th>1</th>\n",
       "      <td>9.2</td>\n",
       "      <td>The Godfather</td>\n",
       "      <td>R</td>\n",
       "      <td>Crime</td>\n",
       "      <td>175</td>\n",
       "      <td>[u'Marlon Brando', u'Al Pacino', u'James Caan']</td>\n",
       "    </tr>\n",
       "    <tr>\n",
       "      <th>2</th>\n",
       "      <td>9.1</td>\n",
       "      <td>The Godfather: Part II</td>\n",
       "      <td>R</td>\n",
       "      <td>Crime</td>\n",
       "      <td>200</td>\n",
       "      <td>[u'Al Pacino', u'Robert De Niro', u'Robert Duv...</td>\n",
       "    </tr>\n",
       "    <tr>\n",
       "      <th>3</th>\n",
       "      <td>9.0</td>\n",
       "      <td>The Dark Knight</td>\n",
       "      <td>PG-13</td>\n",
       "      <td>Action</td>\n",
       "      <td>152</td>\n",
       "      <td>[u'Christian Bale', u'Heath Ledger', u'Aaron E...</td>\n",
       "    </tr>\n",
       "    <tr>\n",
       "      <th>4</th>\n",
       "      <td>8.9</td>\n",
       "      <td>Pulp Fiction</td>\n",
       "      <td>R</td>\n",
       "      <td>Crime</td>\n",
       "      <td>154</td>\n",
       "      <td>[u'John Travolta', u'Uma Thurman', u'Samuel L....</td>\n",
       "    </tr>\n",
       "    <tr>\n",
       "      <th>...</th>\n",
       "      <td>...</td>\n",
       "      <td>...</td>\n",
       "      <td>...</td>\n",
       "      <td>...</td>\n",
       "      <td>...</td>\n",
       "      <td>...</td>\n",
       "    </tr>\n",
       "    <tr>\n",
       "      <th>974</th>\n",
       "      <td>7.4</td>\n",
       "      <td>Tootsie</td>\n",
       "      <td>PG</td>\n",
       "      <td>Comedy</td>\n",
       "      <td>116</td>\n",
       "      <td>[u'Dustin Hoffman', u'Jessica Lange', u'Teri G...</td>\n",
       "    </tr>\n",
       "    <tr>\n",
       "      <th>975</th>\n",
       "      <td>7.4</td>\n",
       "      <td>Back to the Future Part III</td>\n",
       "      <td>PG</td>\n",
       "      <td>Adventure</td>\n",
       "      <td>118</td>\n",
       "      <td>[u'Michael J. Fox', u'Christopher Lloyd', u'Ma...</td>\n",
       "    </tr>\n",
       "    <tr>\n",
       "      <th>976</th>\n",
       "      <td>7.4</td>\n",
       "      <td>Master and Commander: The Far Side of the World</td>\n",
       "      <td>PG-13</td>\n",
       "      <td>Action</td>\n",
       "      <td>138</td>\n",
       "      <td>[u'Russell Crowe', u'Paul Bettany', u'Billy Bo...</td>\n",
       "    </tr>\n",
       "    <tr>\n",
       "      <th>977</th>\n",
       "      <td>7.4</td>\n",
       "      <td>Poltergeist</td>\n",
       "      <td>PG</td>\n",
       "      <td>Horror</td>\n",
       "      <td>114</td>\n",
       "      <td>[u'JoBeth Williams', u\"Heather O'Rourke\", u'Cr...</td>\n",
       "    </tr>\n",
       "    <tr>\n",
       "      <th>978</th>\n",
       "      <td>7.4</td>\n",
       "      <td>Wall Street</td>\n",
       "      <td>R</td>\n",
       "      <td>Crime</td>\n",
       "      <td>126</td>\n",
       "      <td>[u'Charlie Sheen', u'Michael Douglas', u'Tamar...</td>\n",
       "    </tr>\n",
       "  </tbody>\n",
       "</table>\n",
       "<p>979 rows × 6 columns</p>\n",
       "</div>"
      ],
      "text/plain": [
       "     star_rating                                            title  \\\n",
       "0            9.3                         The Shawshank Redemption   \n",
       "1            9.2                                    The Godfather   \n",
       "2            9.1                           The Godfather: Part II   \n",
       "3            9.0                                  The Dark Knight   \n",
       "4            8.9                                     Pulp Fiction   \n",
       "..           ...                                              ...   \n",
       "974          7.4                                          Tootsie   \n",
       "975          7.4                      Back to the Future Part III   \n",
       "976          7.4  Master and Commander: The Far Side of the World   \n",
       "977          7.4                                      Poltergeist   \n",
       "978          7.4                                      Wall Street   \n",
       "\n",
       "    content_rating      genre  duration  \\\n",
       "0                R      Crime       142   \n",
       "1                R      Crime       175   \n",
       "2                R      Crime       200   \n",
       "3            PG-13     Action       152   \n",
       "4                R      Crime       154   \n",
       "..             ...        ...       ...   \n",
       "974             PG     Comedy       116   \n",
       "975             PG  Adventure       118   \n",
       "976          PG-13     Action       138   \n",
       "977             PG     Horror       114   \n",
       "978              R      Crime       126   \n",
       "\n",
       "                                           actors_list  \n",
       "0    [u'Tim Robbins', u'Morgan Freeman', u'Bob Gunt...  \n",
       "1      [u'Marlon Brando', u'Al Pacino', u'James Caan']  \n",
       "2    [u'Al Pacino', u'Robert De Niro', u'Robert Duv...  \n",
       "3    [u'Christian Bale', u'Heath Ledger', u'Aaron E...  \n",
       "4    [u'John Travolta', u'Uma Thurman', u'Samuel L....  \n",
       "..                                                 ...  \n",
       "974  [u'Dustin Hoffman', u'Jessica Lange', u'Teri G...  \n",
       "975  [u'Michael J. Fox', u'Christopher Lloyd', u'Ma...  \n",
       "976  [u'Russell Crowe', u'Paul Bettany', u'Billy Bo...  \n",
       "977  [u'JoBeth Williams', u\"Heather O'Rourke\", u'Cr...  \n",
       "978  [u'Charlie Sheen', u'Michael Douglas', u'Tamar...  \n",
       "\n",
       "[979 rows x 6 columns]"
      ]
     },
     "execution_count": 2,
     "metadata": {},
     "output_type": "execute_result"
    }
   ],
   "source": [
    "# Importar librerias\n",
    "import pandas as pd\n",
    "import numpy as np\n",
    "import matplotlib.pyplot as plt\n",
    "from scipy.stats import skew, kurtosis, mode\n",
    "\n",
    "# Cargar dataset de IMDb\n",
    "url = \"../assets/imdb_1000.csv\"\n",
    "df = pd.read_csv(url)\n",
    "df"
   ]
  },
  {
   "cell_type": "code",
   "execution_count": 4,
   "id": "61d39304",
   "metadata": {},
   "outputs": [
    {
     "data": {
      "text/plain": [
       "0      24\n",
       "1      13\n",
       "2      22\n",
       "3      15\n",
       "4      12\n",
       "       ..\n",
       "974     7\n",
       "975    27\n",
       "976    47\n",
       "977    11\n",
       "978    11\n",
       "Name: title_length, Length: 979, dtype: int64"
      ]
     },
     "execution_count": 4,
     "metadata": {},
     "output_type": "execute_result"
    }
   ],
   "source": [
    "# Crea una nueva columna llamada 'title_length' con la longitud (número de caracteres) de cada título\n",
    "df['title_length'] = df['title'].apply(len)\n",
    "df['title_length'] \n"
   ]
  },
  {
   "cell_type": "code",
   "execution_count": 7,
   "id": "cae9c2e7",
   "metadata": {},
   "outputs": [
    {
     "name": "stdout",
     "output_type": "stream",
     "text": [
      " Media de longitud de título: 15.481103166496425 caracteres\n",
      " Mediana de longitud de título: 14.0 caracteres\n",
      "Moda: 12 caracteres\n"
     ]
    }
   ],
   "source": [
    "# Calcula media, mediana y moda de la columna 'title_length'\n",
    "#df['title_length'].describe() # metodo carlos\n",
    "\n",
    "media = df[\"title_length\"].mean()\n",
    "mediana = df[\"title_length\"].median()\n",
    "moda = mode(df[\"title_length\"], keepdims=False).mode \n",
    "\n",
    "print(f\" Media de longitud de título: {media} caracteres\")\n",
    "print(f\" Mediana de longitud de título: {mediana} caracteres\")\n",
    "print(f\"Moda: {moda} caracteres\")\n",
    "\n"
   ]
  },
  {
   "cell_type": "code",
   "execution_count": 27,
   "id": "69664a9b",
   "metadata": {},
   "outputs": [
    {
     "name": "stdout",
     "output_type": "stream",
     "text": [
      "Rango: 67 caracteres\n",
      "Varianza: 72.1067488840288\n",
      "Desviación estándar: 8.491569282766807\n"
     ]
    }
   ],
   "source": [
    "# Calcula el rango, la varianza y la desviación estándar de 'title_length'\n",
    "rango = df[\"title_length\"].max() - df[\"title_length\"].min()\n",
    "print(f\"Rango: {rango} caracteres\")\n",
    "\n",
    "varianza = df[\"title_length\"].var()\n",
    "print(f\"Varianza: {varianza}\")\n",
    "\n",
    "desviacion = df[\"title_length\"].std()\n",
    "print(f\"Desviación estándar: {desviacion}\")"
   ]
  },
  {
   "cell_type": "code",
   "execution_count": 28,
   "id": "6b9a931c",
   "metadata": {},
   "outputs": [
    {
     "name": "stdout",
     "output_type": "stream",
     "text": [
      "Asimetría: 1.5229143965677572\n",
      "Curtosis: 3.7867237597626007\n"
     ]
    }
   ],
   "source": [
    "# Calcula asimetría y curtosis de la columna 'title_length'\n",
    "asimetria = skew(df[\"title_length\"])\n",
    "print(f\"Asimetría: {asimetria}\")\n",
    "\n",
    "curtosis_valor = kurtosis(df[\"title_length\"])\n",
    "print(f\"Curtosis: {curtosis_valor}\")"
   ]
  },
  {
   "cell_type": "code",
   "execution_count": 6,
   "id": "c0d09e68",
   "metadata": {},
   "outputs": [
    {
     "name": "stdout",
     "output_type": "stream",
     "text": [
      "Ttulo más corto (1caracteres):\n",
      "['M']\n",
      "Titulo más largo (68 caractere):\n",
      "['Dr. Strangelove or: How I Learned to Stop Worrying and Love the Bomb']\n"
     ]
    }
   ],
   "source": [
    "# Imprime el título más corto y el título más largo según su longitud\n",
    "titulo_corto = df.loc[df[\"title_length\"] ==df[\"title_length\"].min(),\"title\"]\n",
    "print(f\"Ttulo más corto ({df['title_length'].min()}caracteres):\")\n",
    "print(titulo_corto.values)\n",
    "\n",
    "titulo_largo =df.loc[df[\"title_length\"] ==df[\"title_length\"].max(), \"title\"]\n",
    "print(f\"Titulo más largo ({df['title_length'].max()} caractere):\")\n",
    "print(titulo_largo.values)"
   ]
  },
  {
   "cell_type": "code",
   "execution_count": null,
   "id": "e86a1ced",
   "metadata": {},
   "outputs": [
    {
     "data": {
      "image/png": "[encoded data removed]",
      "text/plain": [
       "<Figure size 1000x500 with 1 Axes>"
      ]
     },
     "metadata": {},
     "output_type": "display_data"
    }
   ],
   "source": [
    "plt.figure(figsize=(10, 5))  # Tamaño cómodo para visual\n",
    "plt.hist(df[\"title_length\"], color=\"blue\",edgecolor=\"black\")\n",
    "plt.title(\"Distribucion de longitud de titulos de peliculas\")\n",
    "plt.xlabel(\"numero de caracteres en el titulo\")\n",
    "plt.ylabel(\"Cantidad de peliculas\")\n",
    "plt.grid(True)\n",
    "plt.show()     # no se como poner el numero exacto en el histograma"
   ]
  },
  {
   "cell_type": "markdown",
   "id": "eaf3ceb7",
   "metadata": {},
   "source": [
    "---\n",
    "\n",
    "## Ejercicio 2 – Cálculo manual de desviación estándar\n",
    "\n",
    "En este ejercicio vas a calcular manualmente la desviación estándar, seleccionando cinco títulos reales del dataset de películas que cargaste antes.\n"
   ]
  },
  {
   "cell_type": "code",
   "execution_count": 56,
   "id": "02a89aed",
   "metadata": {},
   "outputs": [
    {
     "name": "stdout",
     "output_type": "stream",
     "text": [
      "Longitudes seleccionadas: [22 19  7 15 19]\n"
     ]
    }
   ],
   "source": [
    "titulos_ejemplo = df['title_length'].sample(5, random_state=42)\n",
    "print(\"Longitudes seleccionadas:\", titulos_ejemplo.values)"
   ]
  },
  {
   "cell_type": "code",
   "execution_count": null,
   "id": "6e3c4daf",
   "metadata": {},
   "outputs": [
    {
     "data": {
      "text/plain": [
       "array([22, 19,  7, 15, 19])"
      ]
     },
     "execution_count": 57,
     "metadata": {},
     "output_type": "execute_result"
    }
   ],
   "source": [
    "longitudes = titulos_ejemplo.values # paso a lista y saco el array\n",
    "longitudes"
   ]
  },
  {
   "cell_type": "code",
   "execution_count": null,
   "id": "d439968b",
   "metadata": {},
   "outputs": [
    {
     "data": {
      "text/plain": [
       "np.float64(16.4)"
      ]
     },
     "execution_count": 61,
     "metadata": {},
     "output_type": "execute_result"
    }
   ],
   "source": [
    "media = sum(longitudes) /len(longitudes)\n",
    "media"
   ]
  },
  {
   "cell_type": "code",
   "execution_count": 64,
   "id": "17cd6fbd",
   "metadata": {},
   "outputs": [
    {
     "name": "stdout",
     "output_type": "stream",
     "text": [
      "Desviación estándar: 5.813776741499454\n"
     ]
    }
   ],
   "source": [
    "# Restar cada valor con la media y elevar al cuadrado\n",
    "diferencias_cuadradas = [(x - media) ** 2 for x in longitudes]\n",
    "\n",
    "#Calcular la varianza (n - 1 porque es muestra)\n",
    "varianza = sum(diferencias_cuadradas) / (len(longitudes) - 1)\n",
    "\n",
    "# Sacar raíz cuadrada → desviación estándar\n",
    "desviacion_estandar = varianza ** 0.5\n",
    "print(f\"Desviación estándar: {desviacion_estandar}\")"
   ]
  },
  {
   "cell_type": "code",
   "execution_count": 65,
   "id": "3005c0f9",
   "metadata": {},
   "outputs": [
    {
     "name": "stdout",
     "output_type": "stream",
     "text": [
      "Lista de 5 longitudes de títulos: [22, 19, 7, 15, 19]\n"
     ]
    }
   ],
   "source": [
    "# Crea una lista con 5 valores reales de df['title_length'], por ejemplo: [10, 13, 14, 18, 22]\n",
    "valores_seleccionados = df['title_length'].sample(5, random_state=42).tolist()\n",
    "\n",
    "# Mostrar la lista\n",
    "print(\"Lista de 5 longitudes de títulos:\", valores_seleccionados)"
   ]
  },
  {
   "cell_type": "code",
   "execution_count": 66,
   "id": "d96b771f",
   "metadata": {},
   "outputs": [
    {
     "name": "stdout",
     "output_type": "stream",
     "text": [
      "La media de los 5 valores es: 16.4 caracteres\n"
     ]
    }
   ],
   "source": [
    "# Calcula la media de los 5 valores\n",
    "valores = [22, 19, 7, 15, 19] \n",
    "media = sum(valores) / len(valores)\n",
    "print(f\"La media de los 5 valores es: {media} caracteres\")"
   ]
  },
  {
   "cell_type": "code",
   "execution_count": null,
   "id": "346d0dc5",
   "metadata": {},
   "outputs": [
    {
     "name": "stdout",
     "output_type": "stream",
     "text": [
      "Valor 22 → diferencia² = 31.360000000000017\n",
      "Valor 19 → diferencia² = 6.760000000000008\n",
      "Valor 7 → diferencia² = 88.35999999999997\n",
      "Valor 15 → diferencia² = 1.959999999999996\n",
      "Valor 19 → diferencia² = 6.760000000000008\n"
     ]
    }
   ],
   "source": [
    "# Calcula las diferencias al cuadrado con respecto a la media\n",
    "diferencias_cuadradas = [(x - media) ** 2 for x in valores]\n",
    "\n",
    "# Mostrar cada paso\n",
    "for i, dif in enumerate(diferencias_cuadradas, start=1):\n",
    "    print(f\"Valor {valores[i-1]} → diferencia² = {dif}\")"
   ]
  },
  {
   "cell_type": "code",
   "execution_count": 69,
   "id": "f56517ff",
   "metadata": {},
   "outputs": [
    {
     "name": "stdout",
     "output_type": "stream",
     "text": [
      "Varianza: 33.800000000000004\n",
      "Desviación estándar: 5.813776741499454\n"
     ]
    }
   ],
   "source": [
    "# Calcula la varianza (promedio de las diferencias al cuadrado) y su raíz cuadrada para obtener la desviación\n",
    "\n",
    "# Calcular la varianza (n - 1 porque es muestra)\n",
    "varianza = sum(diferencias_cuadradas) / (len(valores) - 1)\n",
    "\n",
    "desviacion_estandar = varianza ** 0.5\n",
    "\n",
    "print(f\"Varianza: {varianza}\")\n",
    "print(f\"Desviación estándar: {desviacion_estandar}\")"
   ]
  }
 ],
 "metadata": {
  "kernelspec": {
   "display_name": "Python 3",
   "language": "python",
   "name": "python3"
  },
  "language_info": {
   "codemirror_mode": {
    "name": "ipython",
    "version": 3
   },
   "file_extension": ".py",
   "mimetype": "text/x-python",
   "name": "python",
   "nbconvert_exporter": "python",
   "pygments_lexer": "ipython3",
   "version": "3.11.4"
  }
 },
 "nbformat": 4,
 "nbformat_minor": 5
}
